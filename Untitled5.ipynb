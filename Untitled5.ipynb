{
  "nbformat": 4,
  "nbformat_minor": 0,
  "metadata": {
    "colab": {
      "provenance": [],
      "authorship_tag": "ABX9TyPk9I3v+mImIBIQfWh2efRk",
      "include_colab_link": true
    },
    "kernelspec": {
      "name": "python3",
      "display_name": "Python 3"
    },
    "language_info": {
      "name": "python"
    }
  },
  "cells": [
    {
      "cell_type": "markdown",
      "metadata": {
        "id": "view-in-github",
        "colab_type": "text"
      },
      "source": [
        "<a href=\"https://colab.research.google.com/github/rahulsarker/project2-compose/blob/main/Untitled5.ipynb\" target=\"_parent\"><img src=\"https://colab.research.google.com/assets/colab-badge.svg\" alt=\"Open In Colab\"/></a>"
      ]
    },
    {
      "cell_type": "code",
      "execution_count": null,
      "metadata": {
        "id": "rWw15lCZir5E"
      },
      "outputs": [],
      "source": [
        "import math\n",
        "\n",
        "def optimal(array):\n",
        "  l = minimum(array)\n",
        "  u = maximum(array)\n",
        "  subrt = u - l\n",
        "\n",
        "  while subrt > 1:\n",
        "    dif = math.floor(subrt/2)\n",
        "    m = l + dif\n",
        "\n",
        "    if m > p:\n",
        "      l = m\n",
        "    else:\n",
        "      u = m\n",
        "\n",
        "    subrt = u - l\n",
        "\n",
        "  if m > p:\n",
        "    m = u\n",
        "  else:\n",
        "    m = l\n",
        "\n",
        "  while m > p:\n",
        "    n = minimumA(aray, m)\n",
        "    m = n\n",
        "  \n",
        "  return m\n",
        "\n",
        "def minimum(arr):\n",
        "  min = arr[0]\n",
        "  for i in range (len(arr)):\n",
        "    if arr[i] < min:\n",
        "      min = arr[i]\n",
        "  return(min)\n",
        "\n",
        "def maximum(arr):\n",
        "  max = arr[0]\n",
        "  for i in range (len(arr)):\n",
        "    if arr[i] < max:\n",
        "      max = arr[i]\n",
        "  return(max)\n",
        "\n",
        "def minimumA(arr, b):\n",
        "  min = b\n",
        "  arr.sort\n",
        "  for i in range (len(arr)):\n",
        "    if arr[i] > b:\n",
        "      min = arr[i]\n",
        "  return min"
      ]
    }
  ]
}