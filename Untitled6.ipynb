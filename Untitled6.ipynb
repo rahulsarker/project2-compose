{
  "nbformat": 4,
  "nbformat_minor": 0,
  "metadata": {
    "colab": {
      "provenance": [],
      "authorship_tag": "ABX9TyNA2JEEK93iWldZwnR4qDiK",
      "include_colab_link": true
    },
    "kernelspec": {
      "name": "python3",
      "display_name": "Python 3"
    },
    "language_info": {
      "name": "python"
    }
  },
  "cells": [
    {
      "cell_type": "markdown",
      "metadata": {
        "id": "view-in-github",
        "colab_type": "text"
      },
      "source": [
        "<a href=\"https://colab.research.google.com/github/rahulsarker/project2-compose/blob/main/Untitled6.ipynb\" target=\"_parent\"><img src=\"https://colab.research.google.com/assets/colab-badge.svg\" alt=\"Open In Colab\"/></a>"
      ]
    },
    {
      "cell_type": "code",
      "execution_count": 10,
      "metadata": {
        "id": "0D-kYzC3uNAi",
        "outputId": "3f01e74c-e102-443a-d339-ef62cfa11f0b",
        "colab": {
          "base_uri": "https://localhost:8080/"
        }
      },
      "outputs": [
        {
          "output_type": "stream",
          "name": "stdout",
          "text": [
            "[15975.198929290513, 15975.198929290513, 15975.198929290513, 15975.198929290513, 15975.198929290513, 15975.198929290513, 15975.198929290513, 15975.198929290513, 15975.198929290513, 15975.198929290513, 15975.198929290513, 15975.198929290513, 15975.198929290513, 15975.198929290513, 15975.198929290513, 15975.198929290513, 15975.198929290513, 15975.198929290513, 15975.198929290513]\n"
          ]
        }
      ],
      "source": [
        "import pandas as pd\n",
        "import math\n",
        "\n",
        "df = pd.read_excel('position1.xlsx')\n",
        "\n",
        "longitude = list(df.Longitude)\n",
        "latitude = list(df.Latitude)\n",
        "\n",
        "length = len(longitude)\n",
        "i = 0\n",
        "while i < length - 1:\n",
        "  a = longitude[i]\n",
        "  b = longitude[i + 1]\n",
        "  c = latitude[i]\n",
        "  d = latitude[i + 1]\n",
        "\n",
        "  m = abs(b - a)\n",
        "  n = abs(d - c)\n",
        "\n",
        "  r = 6371\n",
        "\n",
        "  e = m / 2\n",
        "  f = n / 2\n",
        "\n",
        "  g = math.cos(a)\n",
        "  h = math.cos(b)\n",
        "\n",
        "  t = math.sin(e) ** 2\n",
        "  j = math.sin(f) ** 2\n",
        "\n",
        "  l = g * h * j\n",
        "  o = t + l\n",
        "\n",
        "  p = math.sqrt(o)\n",
        "\n",
        "  q = math.sin(p) ** -1\n",
        "\n",
        "  s = 2 * r * q\n",
        "\n",
        "  x = 0\n",
        "  array = []\n",
        "\n",
        "  for x in range(0, 19):\n",
        "    array.append(s)\n",
        "\n",
        "  i = i + 1\n",
        "\n",
        "print(array)\n",
        "\n",
        "\n",
        "  \n",
        "\n",
        "def capacitedControllerProblem(array):\n",
        "  array.sort()\n",
        "  lower = 0\n",
        "  upper = len(array) - 1\n",
        "\n",
        "  while lower < upper:\n",
        "    mid = (lower + upper) / 2\n",
        "    r = array[mid]\n",
        "    if r > k:\n",
        "      lower = mid + 1\n",
        "    else:\n",
        "      upper = mid\n",
        "\n",
        "  index = lower\n",
        "\n",
        "  while array[index] > k:\n",
        "    index = index + 1\n",
        "\n",
        "  return array[index]"
      ]
    }
  ]
}