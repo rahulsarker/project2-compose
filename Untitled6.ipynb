{
  "nbformat": 4,
  "nbformat_minor": 0,
  "metadata": {
    "colab": {
      "provenance": [],
      "authorship_tag": "ABX9TyNrCXWp4LSfPPgZZLi9cyrE",
      "include_colab_link": true
    },
    "kernelspec": {
      "name": "python3",
      "display_name": "Python 3"
    },
    "language_info": {
      "name": "python"
    }
  },
  "cells": [
    {
      "cell_type": "markdown",
      "metadata": {
        "id": "view-in-github",
        "colab_type": "text"
      },
      "source": [
        "<a href=\"https://colab.research.google.com/github/rahulsarker/project2-compose/blob/main/Untitled6.ipynb\" target=\"_parent\"><img src=\"https://colab.research.google.com/assets/colab-badge.svg\" alt=\"Open In Colab\"/></a>"
      ]
    },
    {
      "cell_type": "code",
      "execution_count": null,
      "metadata": {
        "id": "0D-kYzC3uNAi"
      },
      "outputs": [],
      "source": [
        "def capacitedControllerProblem(array):\n",
        "  array.sort()\n",
        "  lower = 0\n",
        "  upper = len(array) - 1\n",
        "\n",
        "  while lower < upper:\n",
        "    mid = (lower + upper) / 2\n",
        "    r = array[mid]\n",
        "    if r > k:\n",
        "      lower = mid + 1\n",
        "    else:\n",
        "      upper = mid\n",
        "\n",
        "  index = lower\n",
        "\n",
        "  while array[index] > k:\n",
        "    index = index + 1\n",
        "\n",
        "  return array[index]"
      ]
    }
  ]
}